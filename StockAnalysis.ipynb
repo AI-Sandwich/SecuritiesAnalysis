{
 "cells": [
  {
   "cell_type": "code",
   "execution_count": null,
   "metadata": {},
   "outputs": [],
   "source": [
    "%matplotlib inline"
   ]
  },
  {
   "cell_type": "code",
   "execution_count": null,
   "metadata": {},
   "outputs": [],
   "source": [
    "import numpy as np\n",
    "import pandas as pd\n",
    "import pandas_datareader as web\n",
    "import datetime\n",
    "import matplotlib\n",
    "import matplotlib.pyplot as plt"
   ]
  },
  {
   "cell_type": "code",
   "execution_count": 5,
   "metadata": {},
   "outputs": [
    {
     "output_type": "stream",
     "name": "stdout",
     "text": [
      "Collecting nltk\n",
      "  Downloading nltk-3.5.zip (1.4 MB)\n",
      "Requirement already satisfied: click in f:\\programdata\\anaconda3\\lib\\site-packages (from nltk) (7.1.2)\n",
      "Collecting joblib\n",
      "  Using cached joblib-1.0.1-py3-none-any.whl (303 kB)\n",
      "Requirement already satisfied: regex in f:\\programdata\\anaconda3\\lib\\site-packages (from nltk) (2021.3.17)\n",
      "Requirement already satisfied: tqdm in f:\\programdata\\anaconda3\\lib\\site-packages (from nltk) (4.59.0)\n",
      "Building wheels for collected packages: nltk\n",
      "  Building wheel for nltk (setup.py): started\n",
      "  Building wheel for nltk (setup.py): finished with status 'done'\n",
      "  Created wheel for nltk: filename=nltk-3.5-py3-none-any.whl size=1434679 sha256=bf9bc99a95df7af2498e13763e47ac2463c89b20a677d157c00ab0f170874654\n",
      "  Stored in directory: c:\\users\\gosly\\appdata\\local\\pip\\cache\\wheels\\ff\\d5\\7b\\f1fb4e1e1603b2f01c2424dd60fbcc50c12ef918bafc44b155\n",
      "Successfully built nltk\n",
      "Installing collected packages: joblib, nltk\n",
      "Successfully installed joblib-1.0.1 nltk-3.5\n",
      "  WARNING: The script nltk.exe is installed in 'F:\\ProgramData\\Anaconda3\\Scripts' which is not on PATH.\n",
      "  Consider adding this directory to PATH or, if you prefer to suppress this warning, use --no-warn-script-location.\n"
     ]
    }
   ],
   "source": [
    "!pip install nltk"
   ]
  },
  {
   "cell_type": "code",
   "execution_count": null,
   "metadata": {},
   "outputs": [],
   "source": [
    "pd.set_option('display.max_rows', 20)\n",
    "pd.set_option('display.max_columns', 10)\n",
    "pd.set_option('display.width', 100)\n",
    "\n",
    "\n",
    "# datetime.datetime is a data type within the datetime module\n",
    "start = datetime.datetime(2015, 1, 1)\n",
    "end = datetime.datetime(2020, 12, 31)\n",
    "\n",
    "tickers=['CHAU', 'UPRO','TSLA','BABA','SQ','PYPL']\n",
    "\n",
    "# DataReader method name is case sensitive\n",
    "df = {ticker: web.DataReader(ticker, 'yahoo', start, end) for ticker in tickers}\n",
    "price = pd.DataFrame({tic: data['Adj Close'] for tic, data in df.items()})\n",
    "returns = price.pct_change()\n",
    "volume=pd.DataFrame({tic: data['Volume'] for tic, data in df.items()})\n",
    "summary={tic: data.describe() for tic, data in df.items()}\n",
    "print(returns.corr())\n",
    "\n",
    "def SecurityCorr(ticker, start, end, source='yahoo'):\n",
    "    dfa ={tic: web.DataReader(tic, source, start, end) for tic in tickers}\n",
    "    price = pd.DataFrame({tic: data['Adj Close'] for tic, data in dfa.items()})\n",
    "    returns = price.pct_change()\n",
    "    return returns.corr()\n",
    "\n",
    "print(plt.plot(df['PYPL']))"
   ]
  },
  {
   "cell_type": "code",
   "execution_count": null,
   "metadata": {},
   "outputs": [],
   "source": [
    "plt.plot(price.ASHR)"
   ]
  },
  {
   "cell_type": "code",
   "execution_count": null,
   "metadata": {},
   "outputs": [],
   "source": []
  }
 ],
 "metadata": {
  "kernelspec": {
   "name": "python3",
   "display_name": "Python 3.8.5 64-bit ('base': conda)",
   "metadata": {
    "interpreter": {
     "hash": "3b4baaa99ce496dc40cdfd89f552355611f9aa76aabfeef54db50a2e6c14fedd"
    }
   }
  },
  "language_info": {
   "codemirror_mode": {
    "name": "ipython",
    "version": 3
   },
   "file_extension": ".py",
   "mimetype": "text/x-python",
   "name": "python",
   "nbconvert_exporter": "python",
   "pygments_lexer": "ipython3",
   "version": "3.8.5"
  },
  "widgets": {
   "application/vnd.jupyter.widget-state+json": {
    "state": {},
    "version_major": 2,
    "version_minor": 0
   }
  }
 },
 "nbformat": 4,
 "nbformat_minor": 4
}